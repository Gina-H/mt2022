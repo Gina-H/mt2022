{
 "cells": [
  {
   "cell_type": "markdown",
   "metadata": {
    "slideshow": {
     "slide_type": "slide"
    }
   },
   "source": [
    "[Timothy Kam](https://github.com/phantomachine)\n",
    "\n",
    "# Purpose\n",
    "\n",
    "This follows up from the previous notebook: [Stochastic Growth and Irrreversible Investment](https://github.com/phantomachine/SPADES/blob/master/sgpc/Stochastic%20Growth%20and%20Irreversible%20Investment.ipynb). (``sgpc``) \n",
    "\n",
    "* In that notebook we illustrated the usage of *local polynomial sparse grid rules*.\n",
    "\n",
    "* We used it to solve a stochastic growth model with a non-negativity constraint on investment flow.\n",
    "\n"
   ]
  },
  {
   "cell_type": "markdown",
   "metadata": {
    "slideshow": {
     "slide_type": "subslide"
    }
   },
   "source": [
    "This notebook:\n",
    "\n",
    "1. uses the same ``sgpc`` model example;\n",
    "\n",
    "2. compares alternative local polynomial grid rules with alternative levels of **sparsity** ($L$ or ``Depth``) and maximal approximant-polynomial **orders** (``Order``). \n",
    "\n",
    "    * The grids are currently *isotropic* (have the same level of sparsity in all dimensions).\n",
    "    \n",
    "3. compares simple, one-period Euler-equation approximation error analyses."
   ]
  },
  {
   "cell_type": "markdown",
   "metadata": {},
   "source": [
    "## Local polynomial grids\n",
    "\n",
    "Local polynomial grids are built up from equidistant points. Their associated polynomial basis functions have support restricted to a neighborhood of each point. The usage here is similar to what is known as *finite element methods*.\n",
    "\n",
    "We employed *local polynomial grids* in this example because:\n",
    "\n",
    "1. The local support of the functions permit the use of locally adaptive approximation schemes.\n",
    "\n",
    "2. This means that local grids are suitable for approximating functions with \"sharp behavior\", e.g., when it can exhibit gradients that change rapidly. \n",
    "\n",
    "Like global grids, local grids are constructed from tensors of one-dimensional points and basis functions. However, compared to global grids, local grids use functions with local support and very strict hierarchy. "
   ]
  },
  {
   "cell_type": "markdown",
   "metadata": {},
   "source": [
    "# Initial steps\n",
    "\n",
    "We first import the module called ``main.py``. \n",
    "\n",
    "* This module provides a self-contained function to execute and solve a parametric instance of our model ``sgpc``. "
   ]
  },
  {
   "cell_type": "code",
   "execution_count": 1,
   "metadata": {},
   "outputs": [],
   "source": [
    "import main\n",
    "import matplotlib.pyplot as plt \n",
    "import numpy as np"
   ]
  },
  {
   "cell_type": "markdown",
   "metadata": {},
   "source": [
    "# Alternative grid denseness and error analysis"
   ]
  },
  {
   "cell_type": "markdown",
   "metadata": {},
   "source": [
    "Here we will experiment a little with alternative levels (the parameter $L$ in the ``TASMANIAN`` [mathematical notes](https://tasmanian.ornl.gov/manuals.html)). \n",
    "\n",
    "In our application, this is ``L_all`` which defines the sparsity of the domain for function approximations.\n",
    "\n",
    "We'll disable the plotting option this time for each experiment's output by setting ``PLOT=False`` below."
   ]
  },
  {
   "cell_type": "code",
   "execution_count": 2,
   "metadata": {},
   "outputs": [],
   "source": [
    "Levels = [3, 4, 5, 6, 7]\n",
    "out_levels = []"
   ]
  },
  {
   "cell_type": "code",
   "execution_count": 3,
   "metadata": {
    "scrolled": false
   },
   "outputs": [
    {
     "name": "stdout",
     "output_type": "stream",
     "text": [
      "Experiment (Level_all = 3)\n",
      "LOAD_OLD=True: Using old result as initial guess ...\n",
      "Getting file from out/Depth-3-Order-3-Shock-2.npy\n",
      "[ =-------------- ] 0.20% 1/500, error = 0.0000009520    \n",
      "Solve_PEA_TimeIteration: Convergence w.r.t. TOL_value attained.\n",
      "\n",
      "\n",
      "Elapsed time: 0.2699298858642578 seconds\n",
      "\n",
      "Now saving results to .NPY file ...\n",
      "diagnostics_EulerError:\n",
      "\tCurrently performing 'informal' error diagnostic.\n",
      "\tEuler equation error (percentage consumption changes).\n",
      "\tMax. Euler (consumption) error = 14.75149 percent\n",
      "\tMean Euler (consumption) error = 1.67863 percent\n",
      "[ =============== ] 100.00% 1199/1199, error = 0.0000000000    \n",
      "\tBurn-in sims. of length BURN=1000 discarded ...\n",
      "Experiment (Level_all = 4)\n",
      "LOAD_OLD=True: Using old result as initial guess ...\n",
      "Getting file from out/Depth-4-Order-3-Shock-2.npy\n",
      "[ =-------------- ] 0.20% 1/500, error = 0.0000006347    \n",
      "Solve_PEA_TimeIteration: Convergence w.r.t. TOL_value attained.\n",
      "\n",
      "\n",
      "Elapsed time: 0.6779649257659912 seconds\n",
      "\n",
      "Now saving results to .NPY file ...\n",
      "diagnostics_EulerError:\n",
      "\tCurrently performing 'informal' error diagnostic.\n",
      "\tEuler equation error (percentage consumption changes).\n",
      "\tMax. Euler (consumption) error = 7.91891 percent\n",
      "\tMean Euler (consumption) error = 1.02107 percent\n",
      "[ =============== ] 100.00% 1199/1199, error = 0.0000000000    \n",
      "\tBurn-in sims. of length BURN=1000 discarded ...\n",
      "Experiment (Level_all = 5)\n",
      "LOAD_OLD=True: Using old result as initial guess ...\n",
      "Getting file from out/Depth-5-Order-3-Shock-2.npy\n",
      "[ =-------------- ] 0.20% 1/500, error = 0.0000007206    \n",
      "Solve_PEA_TimeIteration: Convergence w.r.t. TOL_value attained.\n",
      "\n",
      "\n",
      "Elapsed time: 1.8205657005310059 seconds\n",
      "\n",
      "Now saving results to .NPY file ...\n",
      "diagnostics_EulerError:\n",
      "\tCurrently performing 'informal' error diagnostic.\n",
      "\tEuler equation error (percentage consumption changes).\n",
      "\tMax. Euler (consumption) error = 3.39864 percent\n",
      "\tMean Euler (consumption) error = 0.21832 percent\n",
      "[ =============== ] 100.00% 1199/1199, error = 0.0000000000    \n",
      "\tBurn-in sims. of length BURN=1000 discarded ...\n",
      "Experiment (Level_all = 6)\n",
      "LOAD_OLD=True: Using old result as initial guess ...\n",
      "Getting file from out/Depth-6-Order-3-Shock-2.npy\n",
      "[ =-------------- ] 0.20% 1/500, error = 0.0000007600    \n",
      "Solve_PEA_TimeIteration: Convergence w.r.t. TOL_value attained.\n",
      "\n",
      "\n",
      "Elapsed time: 5.730806112289429 seconds\n",
      "\n",
      "Now saving results to .NPY file ...\n",
      "diagnostics_EulerError:\n",
      "\tCurrently performing 'informal' error diagnostic.\n",
      "\tEuler equation error (percentage consumption changes).\n",
      "\tMax. Euler (consumption) error = 4.00521 percent\n",
      "\tMean Euler (consumption) error = 0.12671 percent\n",
      "[ =============== ] 100.00% 1199/1199, error = 0.0000000000    \n",
      "\tBurn-in sims. of length BURN=1000 discarded ...\n",
      "Experiment (Level_all = 7)\n",
      "LOAD_OLD=True: Using old result as initial guess ...\n",
      "Getting file from out/Depth-7-Order-3-Shock-2.npy\n",
      "[ =-------------- ] 0.20% 1/500, error = 0.0000007334    \n",
      "Solve_PEA_TimeIteration: Convergence w.r.t. TOL_value attained.\n",
      "\n",
      "\n",
      "Elapsed time: 19.7341628074646 seconds\n",
      "\n",
      "Now saving results to .NPY file ...\n",
      "diagnostics_EulerError:\n",
      "\tCurrently performing 'informal' error diagnostic.\n",
      "\tEuler equation error (percentage consumption changes).\n",
      "\tMax. Euler (consumption) error = 3.82890 percent\n",
      "\tMean Euler (consumption) error = 0.06004 percent\n",
      "[ =============== ] 100.00% 1199/1199, error = 0.0000000000    \n",
      "\tBurn-in sims. of length BURN=1000 discarded ...\n"
     ]
    }
   ],
   "source": [
    "for idx_L, L in enumerate(Levels):\n",
    "    print(\"Experiment (Level_all = %i)\" %L)\n",
    "    # To run default instance specified in MAIN.PY execute: main.run()\n",
    "    results = main.run( σ=0.05,            # log(TFP) shock std deviation\n",
    "                        TOL=1e-6,          # Convergence criterion\n",
    "                        L_all=L,           # Current state-space: grid density (L)evel\n",
    "                        Order_all=3,       #            Max. order of polynomial bases\n",
    "                        LOAD_OLD=True,     # Load previously saved experiments' policies\n",
    "                        PLOT=False,        # Plot each experiment's irf/sims results?\n",
    "                        Display=False,     # Display each experiment's info\n",
    "                       )\n",
    "    # Store experiment's RESULTS (dict) into OUT (list)\n",
    "    out_levels.append(results)"
   ]
  },
  {
   "cell_type": "code",
   "execution_count": 4,
   "metadata": {
    "scrolled": false
   },
   "outputs": [
    {
     "name": "stdout",
     "output_type": "stream",
     "text": [
      "L = 3 : Max. Euler Error = 14.751490\n",
      "L = 4 : Max. Euler Error = 7.918913\n",
      "L = 5 : Max. Euler Error = 3.398636\n",
      "L = 6 : Max. Euler Error = 4.005213\n",
      "L = 7 : Max. Euler Error = 3.828905\n",
      "\n",
      "Note: Errors measured in percentage consumption change\n"
     ]
    },
    {
     "data": {
      "image/png": "[encoded data removed]",
      "text/plain": [
       "<Figure size 432x288 with 1 Axes>"
      ]
     },
     "metadata": {
      "needs_background": "light"
     },
     "output_type": "display_data"
    }
   ],
   "source": [
    "plt.figure()\n",
    "for idx_L, level in enumerate(Levels):\n",
    "    max_error = 100*out_levels[idx_L][\"diagnostics\"][0]\n",
    "    plt.plot(level, max_error, 'ok')\n",
    "    print(\"L = %i : Max. Euler Error = %0.6f\" %(level, max_error))\n",
    "print(\"\\nNote: Errors measured in percentage consumption change\")\n",
    "plt.xlabel(\"Level\")\n",
    "plt.ylabel(\"Max. Error (%)\")\n",
    "plt.show()"
   ]
  },
  {
   "cell_type": "markdown",
   "metadata": {},
   "source": [
    "# Alternative polynomial order and error analysis"
   ]
  },
  {
   "cell_type": "markdown",
   "metadata": {},
   "source": [
    "Here we will experiment a little with alternative maximal ``Order`` for local polynomials approximant bases.\n",
    "\n",
    "Local polynomials are hierarchically defined around each local grid neighborhood. ``Order`` limits the largest polynomial order for all these local polynomials."
   ]
  },
  {
   "cell_type": "code",
   "execution_count": 5,
   "metadata": {},
   "outputs": [],
   "source": [
    "Order = [1, 3, 5, 7]\n",
    "out_order = []"
   ]
  },
  {
   "cell_type": "markdown",
   "metadata": {},
   "source": [
    "We'll disable the plotting option this time for each experiment's output by setting ``PLOT=False`` below."
   ]
  },
  {
   "cell_type": "code",
   "execution_count": 6,
   "metadata": {},
   "outputs": [
    {
     "name": "stdout",
     "output_type": "stream",
     "text": [
      "Experiment (Order = 1)\n",
      "LOAD_OLD=True: Using old result as initial guess ...\n",
      "Getting file from out/Depth-5-Order-1-Shock-2.npy\n",
      "[ =-------------- ] 0.20% 1/500, error = 0.0000007967    \n",
      "Solve_PEA_TimeIteration: Convergence w.r.t. TOL_value attained.\n",
      "\n",
      "\n",
      "Elapsed time: 1.7385609149932861 seconds\n",
      "\n",
      "Now saving results to .NPY file ...\n",
      "diagnostics_EulerError:\n",
      "\tCurrently performing 'informal' error diagnostic.\n",
      "\tEuler equation error (percentage consumption changes).\n",
      "\tMax. Euler (consumption) error = 5.59877 percent\n",
      "\tMean Euler (consumption) error = 0.24459 percent\n",
      "[ =============== ] 100.00% 1199/1199, error = 0.0000000000    \n",
      "\tBurn-in sims. of length BURN=1000 discarded ...\n",
      "Experiment (Order = 3)\n",
      "LOAD_OLD=True: Using old result as initial guess ...\n",
      "Getting file from out/Depth-5-Order-3-Shock-2.npy\n",
      "[ =-------------- ] 0.20% 1/500, error = 0.0000006876    \n",
      "Solve_PEA_TimeIteration: Convergence w.r.t. TOL_value attained.\n",
      "\n",
      "\n",
      "Elapsed time: 1.9270012378692627 seconds\n",
      "\n",
      "Now saving results to .NPY file ...\n",
      "diagnostics_EulerError:\n",
      "\tCurrently performing 'informal' error diagnostic.\n",
      "\tEuler equation error (percentage consumption changes).\n",
      "\tMax. Euler (consumption) error = 3.39874 percent\n",
      "\tMean Euler (consumption) error = 0.21832 percent\n",
      "[ =============== ] 100.00% 1199/1199, error = 0.0000000000    \n",
      "\tBurn-in sims. of length BURN=1000 discarded ...\n",
      "Experiment (Order = 5)\n",
      "LOAD_OLD=True: Using old result as initial guess ...\n",
      "Getting file from out/Depth-5-Order-5-Shock-2.npy\n",
      "[ =-------------- ] 0.20% 1/500, error = 0.0000007972    \n",
      "Solve_PEA_TimeIteration: Convergence w.r.t. TOL_value attained.\n",
      "\n",
      "\n",
      "Elapsed time: 1.9114129543304443 seconds\n",
      "\n",
      "Now saving results to .NPY file ...\n",
      "diagnostics_EulerError:\n",
      "\tCurrently performing 'informal' error diagnostic.\n",
      "\tEuler equation error (percentage consumption changes).\n",
      "\tMax. Euler (consumption) error = 3.38856 percent\n",
      "\tMean Euler (consumption) error = 0.21943 percent\n",
      "[ =============== ] 100.00% 1199/1199, error = 0.0000000000    \n",
      "\tBurn-in sims. of length BURN=1000 discarded ...\n",
      "Experiment (Order = 7)\n",
      "LOAD_OLD=True: Using old result as initial guess ...\n",
      "Getting file from out/Depth-5-Order-7-Shock-2.npy\n",
      "[ =-------------- ] 0.20% 1/500, error = 0.0000007972    \n",
      "Solve_PEA_TimeIteration: Convergence w.r.t. TOL_value attained.\n",
      "\n",
      "\n",
      "Elapsed time: 1.8999722003936768 seconds\n",
      "\n",
      "Now saving results to .NPY file ...\n",
      "diagnostics_EulerError:\n",
      "\tCurrently performing 'informal' error diagnostic.\n",
      "\tEuler equation error (percentage consumption changes).\n",
      "\tMax. Euler (consumption) error = 3.38856 percent\n",
      "\tMean Euler (consumption) error = 0.21943 percent\n",
      "[ =============== ] 100.00% 1199/1199, error = 0.0000000000    \n",
      "\tBurn-in sims. of length BURN=1000 discarded ...\n"
     ]
    }
   ],
   "source": [
    "for idx_Order, order in enumerate(Order):\n",
    "    print(\"Experiment (Order = %i)\" %order)\n",
    "    # To run default instance specified in MAIN.PY execute: main.run()\n",
    "    results = main.run( σ=0.05,            # log(TFP) shock ϵation\n",
    "                        TOL=1e-6,          # Convergence criterion\n",
    "                        L_all = 5,         # Current state-space: grid density (L)evel\n",
    "                        Order_all = order, #            Max. order of polynomial bases\n",
    "                        LOAD_OLD = True,  # Load previously saved exp.func. array?\n",
    "                        PLOT = False,      # Plot each experiment's irf/sims results?\n",
    "                        Display=False,     # Display each experiment's info\n",
    "                       )\n",
    "    # Store experiment's RESULTS (dict) into OUT (list)\n",
    "    out_order.append(results)"
   ]
  },
  {
   "cell_type": "code",
   "execution_count": 8,
   "metadata": {
    "scrolled": false
   },
   "outputs": [
    {
     "name": "stdout",
     "output_type": "stream",
     "text": [
      "Order = 1 : Max. Euler Error = 5.598775\n",
      "Order = 3 : Max. Euler Error = 3.398742\n",
      "Order = 5 : Max. Euler Error = 3.388556\n",
      "Order = 7 : Max. Euler Error = 3.388556\n",
      "\n",
      "Note: Errors measured in percentage consumption change\n"
     ]
    },
    {
     "data": {
      "image/png": "[encoded data removed]",
      "text/plain": [
       "<Figure size 432x288 with 1 Axes>"
      ]
     },
     "metadata": {
      "needs_background": "light"
     },
     "output_type": "display_data"
    }
   ],
   "source": [
    "plt.figure()\n",
    "for idx_Order, order in enumerate(Order):\n",
    "    max_error = 100*out_order[idx_Order][\"diagnostics\"][0]\n",
    "    print(\"Order = %i : Max. Euler Error = %0.6f\" %(order, max_error))\n",
    "    plt.plot(order, max_error, 'ok')\n",
    "print(\"\\nNote: Errors measured in percentage consumption change\")\n",
    "plt.xlabel(\"Max. Local Polynomial Basis Order\")\n",
    "plt.ylabel(\"Max. Error (%)\")\n",
    "plt.show()"
   ]
  }
 ],
 "metadata": {
  "celltoolbar": "Slideshow",
  "kernelspec": {
   "display_name": "Python 3",
   "language": "python",
   "name": "python3"
  },
  "language_info": {
   "codemirror_mode": {
    "name": "ipython",
    "version": 3
   },
   "file_extension": ".py",
   "mimetype": "text/x-python",
   "name": "python",
   "nbconvert_exporter": "python",
   "pygments_lexer": "ipython3",
   "version": "3.7.4"
  },
  "latex_envs": {
   "LaTeX_envs_menu_present": true,
   "autoclose": false,
   "autocomplete": false,
   "bibliofile": "smolyak.bib",
   "cite_by": "apalike",
   "current_citInitial": 1,
   "eqLabelWithNumbers": true,
   "eqNumInitial": 1,
   "hotkeys": {
    "equation": "Ctrl-E",
    "itemize": "Ctrl-I"
   },
   "labels_anchors": false,
   "latex_user_defs": false,
   "report_style_numbering": true,
   "user_envs_cfg": true
  }
 },
 "nbformat": 4,
 "nbformat_minor": 4
}
